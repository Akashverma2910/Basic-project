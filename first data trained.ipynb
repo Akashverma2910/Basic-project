{
 "cells": [
  {
   "cell_type": "code",
   "execution_count": 3,
   "id": "30174d22",
   "metadata": {},
   "outputs": [
    {
     "name": "stdout",
     "output_type": "stream",
     "text": [
      "AKASH\n"
     ]
    }
   ],
   "source": [
    "print('AKASH')"
   ]
  },
  {
   "cell_type": "code",
   "execution_count": 7,
   "id": "bae4bd16",
   "metadata": {},
   "outputs": [
    {
     "name": "stdout",
     "output_type": "stream",
     "text": [
      "sum of two number is 7\n"
     ]
    }
   ],
   "source": [
    "x=5\n",
    "y=2\n",
    "print('sum of two number is',x+y)"
   ]
  },
  {
   "cell_type": "code",
   "execution_count": 9,
   "id": "69d1a819",
   "metadata": {},
   "outputs": [
    {
     "name": "stdout",
     "output_type": "stream",
     "text": [
      "h\n"
     ]
    }
   ],
   "source": [
    "print(\"h\")"
   ]
  }
 ],
 "metadata": {
  "kernelspec": {
   "display_name": "Python 3 (ipykernel)",
   "language": "python",
   "name": "python3"
  },
  "language_info": {
   "codemirror_mode": {
    "name": "ipython",
    "version": 3
   },
   "file_extension": ".py",
   "mimetype": "text/x-python",
   "name": "python",
   "nbconvert_exporter": "python",
   "pygments_lexer": "ipython3",
   "version": "3.9.7"
  }
 },
 "nbformat": 4,
 "nbformat_minor": 5
}
